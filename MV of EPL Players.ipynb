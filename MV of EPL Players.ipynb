{
 "cells": [
  {
   "cell_type": "code",
   "execution_count": 19,
   "metadata": {},
   "outputs": [],
   "source": [
    "# Importing all modules\n",
    "import time\n",
    "import numpy as np\n",
    "import pandas as pd\n",
    "from sklearn.model_selection import cross_val_score\n",
    "from sklearn.model_selection import RepeatedKFold\n",
    "from sklearn.linear_model import Lasso\n",
    "from sklearn.ensemble import RandomForestRegressor\n",
    "import matplotlib.pyplot as plt"
   ]
  },
  {
   "cell_type": "code",
   "execution_count": 20,
   "metadata": {},
   "outputs": [],
   "source": [
    "# Starting time\n",
    "start = time.time()"
   ]
  },
  {
   "cell_type": "code",
   "execution_count": 21,
   "metadata": {},
   "outputs": [
    {
     "name": "stdout",
     "output_type": "stream",
     "text": [
      "                name     club  age position  position_cat  market_value  \\\n",
      "0     Alexis Sanchez  Arsenal   28       LW             1          65.0   \n",
      "1         Mesut Ozil  Arsenal   28       AM             1          50.0   \n",
      "2          Petr Cech  Arsenal   35       GK             4           7.0   \n",
      "3       Theo Walcott  Arsenal   28       RW             1          20.0   \n",
      "4  Laurent Koscielny  Arsenal   31       CB             3          22.0   \n",
      "5    Hector Bellerin  Arsenal   22       RB             3          30.0   \n",
      "6     Olivier Giroud  Arsenal   30       CF             1          22.0   \n",
      "7      Nacho Monreal  Arsenal   31       LB             3          13.0   \n",
      "8   Shkodran Mustafi  Arsenal   25       CB             3          30.0   \n",
      "9         Alex Iwobi  Arsenal   21       LW             1          10.0   \n",
      "\n",
      "   page_views  fpl_value fpl_sel  fpl_points  region     nationality  \\\n",
      "0        4329       12.0  17.10%         264     3.0           Chile   \n",
      "1        4395        9.5   5.60%         167     2.0         Germany   \n",
      "2        1529        5.5   5.90%         134     2.0  Czech Republic   \n",
      "3        2393        7.5   1.50%         122     1.0         England   \n",
      "4         912        6.0   0.70%         121     2.0          France   \n",
      "5        1675        6.0  13.70%         119     2.0           Spain   \n",
      "6        2230        8.5   2.50%         116     2.0          France   \n",
      "7         555        5.5   4.70%         115     2.0           Spain   \n",
      "8        1877        5.5   4.00%          90     2.0         Germany   \n",
      "9        1812        5.5   1.00%          89     4.0         Nigeria   \n",
      "\n",
      "   new_foreign  age_cat  club_id  big_club  new_signing  \n",
      "0            0        4        1         1            0  \n",
      "1            0        4        1         1            0  \n",
      "2            0        6        1         1            0  \n",
      "3            0        4        1         1            0  \n",
      "4            0        4        1         1            0  \n",
      "5            0        2        1         1            0  \n",
      "6            0        4        1         1            0  \n",
      "7            0        4        1         1            0  \n",
      "8            0        3        1         1            1  \n",
      "9            0        1        1         1            0  \n"
     ]
    }
   ],
   "source": [
    "# Importing the dataset\n",
    "Epldata_df = pd.read_csv('Data/epldata_final.csv')\n",
    "print(Epldata_df.head(10))\n",
    "\n",
    "X = Epldata_df.iloc[:,[4, 6, 13, 14, 15]] \n",
    "y = Epldata_df['market_value'].values.reshape(-1,1)"
   ]
  },
  {
   "cell_type": "code",
   "execution_count": 22,
   "metadata": {},
   "outputs": [
    {
     "name": "stdout",
     "output_type": "stream",
     "text": [
      "The mean cross val score with lasso regression is  0.43342784795822664\n"
     ]
    },
    {
     "data": {
      "image/png": "[encoded data removed]",
      "text/plain": [
       "<Figure size 432x288 with 1 Axes>"
      ]
     },
     "metadata": {
      "needs_background": "light"
     },
     "output_type": "display_data"
    }
   ],
   "source": [
    "# Applying Lasso Regression\n",
    "lasso = Lasso(alpha=0.01, normalize=True)\n",
    "cv_lasso = cross_val_score(lasso, X, y, cv=5)\n",
    "print('The mean cross val score with lasso regression is ', np.mean(cv_lasso))\n",
    "\n",
    "# Feature selction with lasso\n",
    "Ft_names = X.columns\n",
    "lassocoef = lasso.fit(X,y).coef_\n",
    "_ = plt.plot(range(len(Ft_names)), lassocoef)\n",
    "_ = plt.xticks(range(len(Ft_names)), Ft_names, rotation=60)\n",
    "_ = plt.ylabel('Lasso Coefficients')\n",
    "plt.show()"
   ]
  },
  {
   "cell_type": "code",
   "execution_count": 23,
   "metadata": {},
   "outputs": [
    {
     "name": "stdout",
     "output_type": "stream",
     "text": [
      "the mean cross val score with Random Forest Regression is  0.6290864862843135\n"
     ]
    }
   ],
   "source": [
    "# Applying Random Forest Regression\n",
    "model = RandomForestRegressor()\n",
    "\n",
    "# Creating number of folds\n",
    "cv = RepeatedKFold(n_splits=5, n_repeats=2, random_state=20)\n",
    "\n",
    "cv_rfr = cross_val_score(model, X, y.ravel(), cv=cv)\n",
    "print('the mean cross val score with Random Forest Regression is ', np.mean(cv_rfr))"
   ]
  },
  {
   "cell_type": "code",
   "execution_count": 24,
   "metadata": {},
   "outputs": [
    {
     "name": "stdout",
     "output_type": "stream",
     "text": [
      "The total runtime of MV of EPL players is:  1.1846611499786377\n"
     ]
    }
   ],
   "source": [
    "# Ending time\n",
    "end = time.time()\n",
    "\n",
    "# Printing total runtime of the program\n",
    "print('The total runtime of MV of EPL players is: ', (end-start))"
   ]
  }
 ],
 "metadata": {
  "interpreter": {
   "hash": "c1eed50787ef20d25398cda8dbdee1a76e16b8a34f1cfc93ad62b39af8360902"
  },
  "kernelspec": {
   "display_name": "Python 3.9.7 ('base')",
   "language": "python",
   "name": "python3"
  },
  "language_info": {
   "codemirror_mode": {
    "name": "ipython",
    "version": 3
   },
   "file_extension": ".py",
   "mimetype": "text/x-python",
   "name": "python",
   "nbconvert_exporter": "python",
   "pygments_lexer": "ipython3",
   "version": "3.9.7"
  },
  "orig_nbformat": 4
 },
 "nbformat": 4,
 "nbformat_minor": 2
}
